{
 "cells": [
  {
   "cell_type": "code",
   "execution_count": 37,
   "id": "586ba4f4-6419-4f9e-aa90-5fbc320db21c",
   "metadata": {},
   "outputs": [],
   "source": [
    "import pyspark\n",
    "from pyspark.sql import SparkSession"
   ]
  },
  {
   "cell_type": "code",
   "execution_count": 38,
   "id": "3d17c0cc-f6dd-4e32-b58e-b51c8377044f",
   "metadata": {},
   "outputs": [
    {
     "data": {
      "text/plain": [
       "'3.5.5'"
      ]
     },
     "execution_count": 38,
     "metadata": {},
     "output_type": "execute_result"
    }
   ],
   "source": [
    "pyspark.__version__"
   ]
  },
  {
   "cell_type": "code",
   "execution_count": 39,
   "id": "d46799db-334e-44cc-a762-e557242b0634",
   "metadata": {},
   "outputs": [],
   "source": [
    "spark = SparkSession.builder \\\n",
    "    .master('local[*]') \\\n",
    "    .appName('test') \\\n",
    "    .getOrCreate()"
   ]
  },
  {
   "cell_type": "code",
   "execution_count": 40,
   "id": "0962bcc3-e8bf-4d20-bc7e-2f9c2d606307",
   "metadata": {},
   "outputs": [],
   "source": [
    "df_green = spark.read.parquet('data/pq/green/*/*')"
   ]
  },
  {
   "cell_type": "code",
   "execution_count": 41,
   "id": "7cda3101-134f-4fd4-add8-e55cc6de0a96",
   "metadata": {},
   "outputs": [
    {
     "data": {
      "text/plain": [
       "StructType([StructField('VendorID', IntegerType(), True), StructField('lpep_pickup_datetime', TimestampType(), True), StructField('lpep_dropoff_datetime', TimestampType(), True), StructField('store_and_fwd_flag', StringType(), True), StructField('RatecodeID', IntegerType(), True), StructField('PULocationID', IntegerType(), True), StructField('DOLocationID', IntegerType(), True), StructField('passenger_count', IntegerType(), True), StructField('trip_distance', DoubleType(), True), StructField('fare_amount', DoubleType(), True), StructField('extra', DoubleType(), True), StructField('mta_tax', DoubleType(), True), StructField('tip_amount', DoubleType(), True), StructField('tolls_amount', DoubleType(), True), StructField('ehail_fee', DoubleType(), True), StructField('improvement_surcharge', DoubleType(), True), StructField('total_amount', DoubleType(), True), StructField('payment_type', IntegerType(), True), StructField('trip_type', IntegerType(), True), StructField('congestion_surcharge', DoubleType(), True)])"
      ]
     },
     "execution_count": 41,
     "metadata": {},
     "output_type": "execute_result"
    }
   ],
   "source": [
    "df_green.schema"
   ]
  },
  {
   "cell_type": "code",
   "execution_count": 42,
   "id": "62ea676b-1307-43ff-b2e3-2c5aff34eef1",
   "metadata": {},
   "outputs": [],
   "source": [
    "df_green.createOrReplaceTempView('green')"
   ]
  },
  {
   "cell_type": "code",
   "execution_count": 43,
   "id": "90c7167e-10e1-45c9-b83c-0b6dc6591b47",
   "metadata": {},
   "outputs": [
    {
     "name": "stdout",
     "output_type": "stream",
     "text": [
      "+---------------------------------------+\n",
      "|date_trunc(month, lpep_pickup_datetime)|\n",
      "+---------------------------------------+\n",
      "|                    2020-01-01 00:00:00|\n",
      "|                    2020-01-01 00:00:00|\n",
      "|                    2020-01-01 00:00:00|\n",
      "|                    2020-01-01 00:00:00|\n",
      "|                    2020-01-01 00:00:00|\n",
      "|                    2020-01-01 00:00:00|\n",
      "|                    2020-01-01 00:00:00|\n",
      "|                    2020-01-01 00:00:00|\n",
      "|                    2020-01-01 00:00:00|\n",
      "|                    2020-01-01 00:00:00|\n",
      "|                    2020-01-01 00:00:00|\n",
      "|                    2020-01-01 00:00:00|\n",
      "|                    2020-01-01 00:00:00|\n",
      "|                    2020-01-01 00:00:00|\n",
      "|                    2020-01-01 00:00:00|\n",
      "|                    2020-01-01 00:00:00|\n",
      "|                    2020-01-01 00:00:00|\n",
      "|                    2020-01-01 00:00:00|\n",
      "|                    2020-01-01 00:00:00|\n",
      "|                    2020-01-01 00:00:00|\n",
      "+---------------------------------------+\n",
      "only showing top 20 rows\n",
      "\n"
     ]
    }
   ],
   "source": [
    "spark.sql(\"\"\"\n",
    "    SELECT date_trunc('month',lpep_pickup_datetime) from green\n",
    "\"\"\").show()"
   ]
  },
  {
   "cell_type": "code",
   "execution_count": 49,
   "id": "634c76f9-3e54-416c-baaa-bec1dd9e9e52",
   "metadata": {},
   "outputs": [],
   "source": [
    "df_result = spark.sql(\"\"\"\n",
    "SELECT \n",
    "    -- Revenue grouping \n",
    "    \n",
    "    date_trunc(\"hour\", lpep_pickup_datetime) AS hour, \n",
    "    PULocationID AS revenue_zone,\n",
    "    \n",
    "    SUM(total_amount) AS total_amount,\n",
    "    COUNT(1) as number_records\n",
    "    \n",
    "FROM green\n",
    "WHERE\n",
    "    lpep_pickup_datetime >= '2020-01-01 00:00:00'\n",
    "GROUP BY 1,2\n",
    "\"\"\")"
   ]
  },
  {
   "cell_type": "code",
   "execution_count": 50,
   "id": "c6ed2f98-ad8b-4318-af48-7639f0be75bf",
   "metadata": {},
   "outputs": [
    {
     "name": "stderr",
     "output_type": "stream",
     "text": [
      "[Stage 56:=========>                                              (2 + 10) / 12]"
     ]
    },
    {
     "name": "stdout",
     "output_type": "stream",
     "text": [
      "+-------------------+------------+------------------+--------------+\n",
      "|               hour|revenue_zone|      total_amount|number_records|\n",
      "+-------------------+------------+------------------+--------------+\n",
      "|2020-01-28 19:00:00|         134|193.61000000000007|            17|\n",
      "|2020-01-22 19:00:00|          65| 657.0300000000001|            41|\n",
      "|2020-01-27 08:00:00|          17|             85.56|             4|\n",
      "|2020-01-02 09:00:00|          66|229.39999999999998|            12|\n",
      "|2020-01-02 12:00:00|          89|310.28000000000003|            14|\n",
      "|2020-01-07 12:00:00|          66|             179.5|             9|\n",
      "|2020-01-03 08:00:00|         223|165.90000000000003|             9|\n",
      "|2020-01-17 10:00:00|          41| 638.2699999999999|            49|\n",
      "|2020-01-02 11:00:00|          26|             198.6|             7|\n",
      "|2020-01-12 20:00:00|         247|36.900000000000006|             3|\n",
      "|2020-01-12 15:00:00|          10|             75.92|             1|\n",
      "|2020-01-24 04:00:00|         129|148.89000000000001|            13|\n",
      "|2020-01-04 20:00:00|          25| 369.5700000000001|            23|\n",
      "|2020-01-22 10:00:00|          74|1179.0599999999988|            83|\n",
      "|2020-01-13 18:00:00|          92|207.02000000000004|            11|\n",
      "|2020-01-19 11:00:00|         218|            181.16|             5|\n",
      "|2020-01-26 12:00:00|          35|257.03000000000003|             8|\n",
      "|2020-01-30 06:00:00|          75|            282.63|            19|\n",
      "|2020-01-04 22:00:00|          83|            298.16|            15|\n",
      "|2020-01-06 21:00:00|         129|288.02000000000004|            14|\n",
      "+-------------------+------------+------------------+--------------+\n",
      "only showing top 20 rows\n",
      "\n"
     ]
    },
    {
     "name": "stderr",
     "output_type": "stream",
     "text": [
      "                                                                                "
     ]
    }
   ],
   "source": [
    "df_result.show()"
   ]
  },
  {
   "cell_type": "code",
   "execution_count": 51,
   "id": "622f7004-bd6b-4ffe-8037-f5c7438a0a89",
   "metadata": {},
   "outputs": [],
   "source": [
    "df_green_hourly_total = df_result"
   ]
  },
  {
   "cell_type": "code",
   "execution_count": 60,
   "id": "b90b4b9c-c46e-4f87-8e23-0e2fad196e19",
   "metadata": {},
   "outputs": [
    {
     "name": "stderr",
     "output_type": "stream",
     "text": [
      "25/03/05 18:28:55 WARN MemoryManager: Total allocation exceeds 95.00% (1,020,054,720 bytes) of heap memory\n",
      "Scaling row group sizes to 95.00% for 8 writers\n",
      "25/03/05 18:28:55 WARN MemoryManager: Total allocation exceeds 95.00% (1,020,054,720 bytes) of heap memory\n",
      "Scaling row group sizes to 84.44% for 9 writers\n",
      "25/03/05 18:28:56 WARN MemoryManager: Total allocation exceeds 95.00% (1,020,054,720 bytes) of heap memory\n",
      "Scaling row group sizes to 76.00% for 10 writers\n",
      "25/03/05 18:28:56 WARN MemoryManager: Total allocation exceeds 95.00% (1,020,054,720 bytes) of heap memory\n",
      "Scaling row group sizes to 69.09% for 11 writers\n",
      "25/03/05 18:28:56 WARN MemoryManager: Total allocation exceeds 95.00% (1,020,054,720 bytes) of heap memory\n",
      "Scaling row group sizes to 63.33% for 12 writers\n",
      "25/03/05 18:28:56 WARN MemoryManager: Total allocation exceeds 95.00% (1,020,054,720 bytes) of heap memory\n",
      "Scaling row group sizes to 69.09% for 11 writers\n",
      "25/03/05 18:28:56 WARN MemoryManager: Total allocation exceeds 95.00% (1,020,054,720 bytes) of heap memory\n",
      "Scaling row group sizes to 76.00% for 10 writers\n",
      "25/03/05 18:28:56 WARN MemoryManager: Total allocation exceeds 95.00% (1,020,054,720 bytes) of heap memory\n",
      "Scaling row group sizes to 84.44% for 9 writers\n",
      "25/03/05 18:28:56 WARN MemoryManager: Total allocation exceeds 95.00% (1,020,054,720 bytes) of heap memory\n",
      "Scaling row group sizes to 95.00% for 8 writers\n",
      "25/03/05 18:28:56 WARN MemoryManager: Total allocation exceeds 95.00% (1,020,054,720 bytes) of heap memory\n",
      "Scaling row group sizes to 95.00% for 8 writers\n"
     ]
    }
   ],
   "source": [
    "df_green_hourly_total \\\n",
    "    .repartition(20) \\\n",
    "    .write.parquet('data/report/revenue/green', mode='overwrite')"
   ]
  },
  {
   "cell_type": "code",
   "execution_count": 53,
   "id": "ef8ef77c-b366-455b-b822-e18f3ebad1ae",
   "metadata": {},
   "outputs": [],
   "source": [
    "df_yellow = spark.read.parquet('data/pq/yellow/*/*')"
   ]
  },
  {
   "cell_type": "code",
   "execution_count": 54,
   "id": "8c8ccc82-359b-4abc-99f4-a13f164df433",
   "metadata": {},
   "outputs": [],
   "source": [
    "df_yellow.createOrReplaceTempView('yellow')"
   ]
  },
  {
   "cell_type": "code",
   "execution_count": 55,
   "id": "9c7a0328-4176-4e01-90d0-c716a1043da8",
   "metadata": {},
   "outputs": [],
   "source": [
    "df_yellow_hourly_total = spark.sql(\"\"\"\n",
    "SELECT \n",
    "    -- Revenue grouping \n",
    "    \n",
    "    date_trunc(\"hour\", tpep_pickup_datetime) AS hour, \n",
    "    PULocationID AS revenue_zone,\n",
    "    \n",
    "    SUM(total_amount) AS total_amount,\n",
    "    COUNT(1) as number_records\n",
    "    \n",
    "FROM yellow\n",
    "WHERE\n",
    "    tpep_pickup_datetime >= '2020-01-01 00:00:00'\n",
    "GROUP BY 1,2\n",
    "\"\"\")"
   ]
  },
  {
   "cell_type": "code",
   "execution_count": 59,
   "id": "9c8c1748-c06b-4404-a428-2b30e311ebfd",
   "metadata": {
    "scrolled": true
   },
   "outputs": [
    {
     "name": "stderr",
     "output_type": "stream",
     "text": [
      "25/03/05 18:28:44 WARN MemoryManager: Total allocation exceeds 95.00% (1,020,054,720 bytes) of heap memory\n",
      "Scaling row group sizes to 95.00% for 8 writers\n",
      "25/03/05 18:28:44 WARN MemoryManager: Total allocation exceeds 95.00% (1,020,054,720 bytes) of heap memory\n",
      "Scaling row group sizes to 84.44% for 9 writers\n",
      "25/03/05 18:28:45 WARN MemoryManager: Total allocation exceeds 95.00% (1,020,054,720 bytes) of heap memory\n",
      "Scaling row group sizes to 76.00% for 10 writers\n",
      "25/03/05 18:28:45 WARN MemoryManager: Total allocation exceeds 95.00% (1,020,054,720 bytes) of heap memory\n",
      "Scaling row group sizes to 69.09% for 11 writers\n",
      "25/03/05 18:28:45 WARN MemoryManager: Total allocation exceeds 95.00% (1,020,054,720 bytes) of heap memory\n",
      "Scaling row group sizes to 63.33% for 12 writers\n",
      "25/03/05 18:28:45 WARN MemoryManager: Total allocation exceeds 95.00% (1,020,054,720 bytes) of heap memory\n",
      "Scaling row group sizes to 69.09% for 11 writers\n",
      "25/03/05 18:28:45 WARN MemoryManager: Total allocation exceeds 95.00% (1,020,054,720 bytes) of heap memory\n",
      "Scaling row group sizes to 76.00% for 10 writers\n",
      "25/03/05 18:28:45 WARN MemoryManager: Total allocation exceeds 95.00% (1,020,054,720 bytes) of heap memory\n",
      "Scaling row group sizes to 84.44% for 9 writers\n",
      "25/03/05 18:28:45 WARN MemoryManager: Total allocation exceeds 95.00% (1,020,054,720 bytes) of heap memory\n",
      "Scaling row group sizes to 95.00% for 8 writers\n",
      "25/03/05 18:28:45 WARN MemoryManager: Total allocation exceeds 95.00% (1,020,054,720 bytes) of heap memory\n",
      "Scaling row group sizes to 95.00% for 8 writers\n",
      "                                                                                "
     ]
    }
   ],
   "source": [
    "df_yellow_hourly_total \\\n",
    "    .repartition(20) \\\n",
    "    .write.parquet('data/report/revenue/yellow', mode='overwrite')"
   ]
  },
  {
   "cell_type": "code",
   "execution_count": 66,
   "id": "1736b8f1-0027-46c4-b601-bae7555d749c",
   "metadata": {},
   "outputs": [],
   "source": [
    "df_y_temp = df_yellow_hourly_total \\\n",
    "    .withColumnRenamed('total_amount', 'yellow_amount') \\\n",
    "    .withColumnRenamed('number_records', 'yellow_count') "
   ]
  },
  {
   "cell_type": "code",
   "execution_count": 67,
   "id": "77a030aa-f05e-4e2c-8c3e-12bc803b3816",
   "metadata": {},
   "outputs": [],
   "source": [
    "df_g_temp = df_green_hourly_total \\\n",
    "    .withColumnRenamed('total_amount', 'green_amount') \\\n",
    "    .withColumnRenamed('number_records', 'green_count') "
   ]
  },
  {
   "cell_type": "code",
   "execution_count": 68,
   "id": "c2d9d5f2-de07-4400-99df-a4316c1c6a98",
   "metadata": {},
   "outputs": [],
   "source": [
    "df_joined_hourly = df_y_temp.join(df_g_temp, on = ['hour', 'revenue_zone'], how = 'outer')"
   ]
  },
  {
   "cell_type": "code",
   "execution_count": 69,
   "id": "6ebc8988-d8e7-4082-bae4-0cbfd4873ede",
   "metadata": {},
   "outputs": [
    {
     "name": "stderr",
     "output_type": "stream",
     "text": [
      "[Stage 92:===========================================>            (10 + 3) / 13]"
     ]
    },
    {
     "name": "stdout",
     "output_type": "stream",
     "text": [
      "+-------------------+------------+-----------------+------------+------------------+-----------+\n",
      "|               hour|revenue_zone|    yellow_amount|yellow_count|      green_amount|green_count|\n",
      "+-------------------+------------+-----------------+------------+------------------+-----------+\n",
      "|2020-01-01 00:00:00|           3|             25.0|           1|              NULL|       NULL|\n",
      "|2020-01-01 00:00:00|          40|            89.97|           5|168.97999999999996|          8|\n",
      "|2020-01-01 00:00:00|          45|732.4800000000002|          42|              NULL|       NULL|\n",
      "|2020-01-01 00:00:00|          47|              8.3|           1|              13.3|          1|\n",
      "|2020-01-01 00:00:00|          51|             31.0|           1|              17.8|          2|\n",
      "|2020-01-01 00:00:00|          68|7825.070000000012|         396|              NULL|       NULL|\n",
      "|2020-01-01 00:00:00|          73|             17.3|           1|              NULL|       NULL|\n",
      "|2020-01-01 00:00:00|          77|           134.24|           3| 75.99000000000001|          2|\n",
      "|2020-01-01 00:00:00|          80|            371.4|          20|364.32000000000005|         13|\n",
      "|2020-01-01 00:00:00|          83|              9.8|           1|              94.1|          7|\n",
      "|2020-01-01 00:00:00|          95|              6.3|           1|202.20000000000002|         15|\n",
      "|2020-01-01 00:00:00|         133|             27.3|           1|              NULL|       NULL|\n",
      "|2020-01-01 00:00:00|         135|             18.3|           1|              NULL|       NULL|\n",
      "|2020-01-01 00:00:00|         141|4306.829999999996|         283|              NULL|       NULL|\n",
      "|2020-01-01 00:00:00|         164|5448.930000000004|         292|              NULL|       NULL|\n",
      "|2020-01-01 00:00:00|         196|             35.6|           2|             37.91|          2|\n",
      "|2020-01-01 00:00:00|         239| 7890.14000000001|         464|              NULL|       NULL|\n",
      "|2020-01-01 00:00:00|         259|             NULL|        NULL|            131.24|          7|\n",
      "|2020-01-01 00:00:00|         260|74.14000000000001|           8|296.25000000000006|         21|\n",
      "|2020-01-01 00:00:00|         261|          1013.94|          51|              NULL|       NULL|\n",
      "+-------------------+------------+-----------------+------------+------------------+-----------+\n",
      "only showing top 20 rows\n",
      "\n"
     ]
    },
    {
     "name": "stderr",
     "output_type": "stream",
     "text": [
      "                                                                                "
     ]
    }
   ],
   "source": [
    "df_joined_hourly.show()"
   ]
  },
  {
   "cell_type": "code",
   "execution_count": 71,
   "id": "817ea5cf-456b-452f-a3dc-b7776c2bc67a",
   "metadata": {},
   "outputs": [
    {
     "name": "stderr",
     "output_type": "stream",
     "text": [
      "25/03/05 20:11:59 WARN MemoryManager: Total allocation exceeds 95.00% (1,020,054,720 bytes) of heap memory\n",
      "Scaling row group sizes to 95.00% for 8 writers\n",
      "25/03/05 20:11:59 WARN MemoryManager: Total allocation exceeds 95.00% (1,020,054,720 bytes) of heap memory\n",
      "Scaling row group sizes to 84.44% for 9 writers\n",
      "25/03/05 20:11:59 WARN MemoryManager: Total allocation exceeds 95.00% (1,020,054,720 bytes) of heap memory\n",
      "Scaling row group sizes to 76.00% for 10 writers\n",
      "25/03/05 20:11:59 WARN MemoryManager: Total allocation exceeds 95.00% (1,020,054,720 bytes) of heap memory\n",
      "Scaling row group sizes to 69.09% for 11 writers\n",
      "25/03/05 20:11:59 WARN MemoryManager: Total allocation exceeds 95.00% (1,020,054,720 bytes) of heap memory\n",
      "Scaling row group sizes to 63.33% for 12 writers\n",
      "25/03/05 20:12:00 WARN MemoryManager: Total allocation exceeds 95.00% (1,020,054,720 bytes) of heap memory\n",
      "Scaling row group sizes to 69.09% for 11 writers\n",
      "25/03/05 20:12:00 WARN MemoryManager: Total allocation exceeds 95.00% (1,020,054,720 bytes) of heap memory\n",
      "Scaling row group sizes to 76.00% for 10 writers\n",
      "25/03/05 20:12:00 WARN MemoryManager: Total allocation exceeds 95.00% (1,020,054,720 bytes) of heap memory\n",
      "Scaling row group sizes to 84.44% for 9 writers\n",
      "25/03/05 20:12:00 WARN MemoryManager: Total allocation exceeds 95.00% (1,020,054,720 bytes) of heap memory\n",
      "Scaling row group sizes to 95.00% for 8 writers\n",
      "                                                                                "
     ]
    }
   ],
   "source": [
    "df_joined_hourly.write.parquet('data/report/revenue/total')"
   ]
  },
  {
   "cell_type": "code",
   "execution_count": 72,
   "id": "8e77323b-1b25-4ca3-8c11-ea10fe4913bb",
   "metadata": {},
   "outputs": [],
   "source": [
    "df_joined = spark.read.parquet('data/report/revenue/total')"
   ]
  },
  {
   "cell_type": "code",
   "execution_count": 73,
   "id": "d99f5ee0-b214-4751-b7b5-26a73b157887",
   "metadata": {},
   "outputs": [
    {
     "name": "stdout",
     "output_type": "stream",
     "text": [
      "+-------------------+------------+------------------+------------+------------------+-----------+\n",
      "|               hour|revenue_zone|     yellow_amount|yellow_count|      green_amount|green_count|\n",
      "+-------------------+------------+------------------+------------+------------------+-----------+\n",
      "|2020-01-01 00:00:00|           4|1004.3000000000002|          57|              NULL|       NULL|\n",
      "|2020-01-01 00:00:00|          37|161.60999999999999|           7|            175.67|          6|\n",
      "|2020-01-01 00:00:00|          62|             61.43|           1|             15.95|          1|\n",
      "|2020-01-01 00:00:00|          74| 586.2100000000002|          47|317.09000000000015|         24|\n",
      "|2020-01-01 00:00:00|          97|403.02000000000004|          20|            786.18|         25|\n",
      "|2020-01-01 00:00:00|         127|43.900000000000006|           3|              NULL|       NULL|\n",
      "|2020-01-01 00:00:00|         130|              NULL|        NULL|            133.35|          7|\n",
      "|2020-01-01 00:00:00|         134|              NULL|        NULL|             69.05|          6|\n",
      "|2020-01-01 00:00:00|         142| 9252.300000000014|         488|              NULL|       NULL|\n",
      "|2020-01-01 00:00:00|         144|2842.7299999999987|         158|              NULL|       NULL|\n",
      "|2020-01-01 00:00:00|         197|              NULL|        NULL|             72.01|          3|\n",
      "|2020-01-01 00:00:00|         226|233.21000000000004|          13|             41.15|          3|\n",
      "|2020-01-01 00:00:00|         230|              24.8|           1|              NULL|       NULL|\n",
      "|2020-01-01 00:00:00|         244|263.16999999999996|          19|183.58000000000004|         12|\n",
      "|2020-01-01 01:00:00|           7|1004.7100000000003|          62| 690.2099999999997|         42|\n",
      "|2020-01-01 01:00:00|          22|              50.0|           1|              NULL|       NULL|\n",
      "|2020-01-01 01:00:00|          45| 898.4400000000002|          49|              NULL|       NULL|\n",
      "|2020-01-01 01:00:00|          47|47.400000000000006|           3|            130.46|          3|\n",
      "|2020-01-01 01:00:00|          61|            548.35|          23| 912.8499999999999|         26|\n",
      "|2020-01-01 01:00:00|          65|            647.43|          31|            246.86|         16|\n",
      "+-------------------+------------+------------------+------------+------------------+-----------+\n",
      "only showing top 20 rows\n",
      "\n"
     ]
    }
   ],
   "source": [
    "df_joined.show()"
   ]
  },
  {
   "cell_type": "code",
   "execution_count": 74,
   "id": "073b5045-5c1e-44b8-ade7-ffc91a8aa69f",
   "metadata": {},
   "outputs": [],
   "source": [
    "df = spark.read \\\n",
    "    .option(\"header\", \"true\") \\\n",
    "    .csv('taxi_zone_lookup.csv')"
   ]
  },
  {
   "cell_type": "code",
   "execution_count": 75,
   "id": "384b1c5c-59ff-438a-9466-92f5964ebc0d",
   "metadata": {},
   "outputs": [],
   "source": [
    "df.write.parquet('zones')"
   ]
  },
  {
   "cell_type": "code",
   "execution_count": 76,
   "id": "0b9837e8-e159-42ba-802f-ccacee1f09fd",
   "metadata": {},
   "outputs": [],
   "source": [
    "df_zones = spark.read.parquet('zones')"
   ]
  },
  {
   "cell_type": "code",
   "execution_count": 77,
   "id": "dcb89483-db49-48d0-89c6-c47cf650fd79",
   "metadata": {},
   "outputs": [
    {
     "name": "stdout",
     "output_type": "stream",
     "text": [
      "+----------+-------------+--------------------+------------+\n",
      "|LocationID|      Borough|                Zone|service_zone|\n",
      "+----------+-------------+--------------------+------------+\n",
      "|         1|          EWR|      Newark Airport|         EWR|\n",
      "|         2|       Queens|         Jamaica Bay|   Boro Zone|\n",
      "|         3|        Bronx|Allerton/Pelham G...|   Boro Zone|\n",
      "|         4|    Manhattan|       Alphabet City| Yellow Zone|\n",
      "|         5|Staten Island|       Arden Heights|   Boro Zone|\n",
      "|         6|Staten Island|Arrochar/Fort Wad...|   Boro Zone|\n",
      "|         7|       Queens|             Astoria|   Boro Zone|\n",
      "|         8|       Queens|        Astoria Park|   Boro Zone|\n",
      "|         9|       Queens|          Auburndale|   Boro Zone|\n",
      "|        10|       Queens|        Baisley Park|   Boro Zone|\n",
      "|        11|     Brooklyn|          Bath Beach|   Boro Zone|\n",
      "|        12|    Manhattan|        Battery Park| Yellow Zone|\n",
      "|        13|    Manhattan|   Battery Park City| Yellow Zone|\n",
      "|        14|     Brooklyn|           Bay Ridge|   Boro Zone|\n",
      "|        15|       Queens|Bay Terrace/Fort ...|   Boro Zone|\n",
      "|        16|       Queens|             Bayside|   Boro Zone|\n",
      "|        17|     Brooklyn|             Bedford|   Boro Zone|\n",
      "|        18|        Bronx|        Bedford Park|   Boro Zone|\n",
      "|        19|       Queens|           Bellerose|   Boro Zone|\n",
      "|        20|        Bronx|             Belmont|   Boro Zone|\n",
      "+----------+-------------+--------------------+------------+\n",
      "only showing top 20 rows\n",
      "\n"
     ]
    }
   ],
   "source": [
    "df_zones.show()"
   ]
  },
  {
   "cell_type": "code",
   "execution_count": 81,
   "id": "085dff88-4db5-430f-b232-c426d833f378",
   "metadata": {},
   "outputs": [],
   "source": [
    "df_results = df_joined.join(df_zones, df_joined.revenue_zone == df_zones.LocationID)"
   ]
  },
  {
   "cell_type": "code",
   "execution_count": 82,
   "id": "3183023b-0cc8-4a1e-9b34-5e63281d6c67",
   "metadata": {},
   "outputs": [
    {
     "name": "stdout",
     "output_type": "stream",
     "text": [
      "+-------------------+------------+------------------+------------+------------------+-----------+----------+---------+--------------------+------------+\n",
      "|               hour|revenue_zone|     yellow_amount|yellow_count|      green_amount|green_count|LocationID|  Borough|                Zone|service_zone|\n",
      "+-------------------+------------+------------------+------------+------------------+-----------+----------+---------+--------------------+------------+\n",
      "|2020-01-01 00:00:00|           4|1004.3000000000002|          57|              NULL|       NULL|         4|Manhattan|       Alphabet City| Yellow Zone|\n",
      "|2020-01-01 00:00:00|          37|161.60999999999999|           7|            175.67|          6|        37| Brooklyn|      Bushwick South|   Boro Zone|\n",
      "|2020-01-01 00:00:00|          62|             61.43|           1|             15.95|          1|        62| Brooklyn| Crown Heights South|   Boro Zone|\n",
      "|2020-01-01 00:00:00|          74| 586.2100000000002|          47|317.09000000000015|         24|        74|Manhattan|   East Harlem North|   Boro Zone|\n",
      "|2020-01-01 00:00:00|          97|403.02000000000004|          20|            786.18|         25|        97| Brooklyn|         Fort Greene|   Boro Zone|\n",
      "|2020-01-01 00:00:00|         127|43.900000000000006|           3|              NULL|       NULL|       127|Manhattan|              Inwood|   Boro Zone|\n",
      "|2020-01-01 00:00:00|         130|              NULL|        NULL|            133.35|          7|       130|   Queens|             Jamaica|   Boro Zone|\n",
      "|2020-01-01 00:00:00|         134|              NULL|        NULL|             69.05|          6|       134|   Queens|         Kew Gardens|   Boro Zone|\n",
      "|2020-01-01 00:00:00|         142| 9252.300000000014|         488|              NULL|       NULL|       142|Manhattan| Lincoln Square East| Yellow Zone|\n",
      "|2020-01-01 00:00:00|         144|2842.7299999999987|         158|              NULL|       NULL|       144|Manhattan| Little Italy/NoLiTa| Yellow Zone|\n",
      "|2020-01-01 00:00:00|         197|              NULL|        NULL|             72.01|          3|       197|   Queens|       Richmond Hill|   Boro Zone|\n",
      "|2020-01-01 00:00:00|         226|233.21000000000004|          13|             41.15|          3|       226|   Queens|           Sunnyside|   Boro Zone|\n",
      "|2020-01-01 00:00:00|         230|              24.8|           1|              NULL|       NULL|       230|Manhattan|Times Sq/Theatre ...| Yellow Zone|\n",
      "|2020-01-01 00:00:00|         244|263.16999999999996|          19|183.58000000000004|         12|       244|Manhattan|Washington Height...|   Boro Zone|\n",
      "|2020-01-01 01:00:00|           7|1004.7100000000003|          62| 690.2099999999997|         42|         7|   Queens|             Astoria|   Boro Zone|\n",
      "|2020-01-01 01:00:00|          22|              50.0|           1|              NULL|       NULL|        22| Brooklyn|    Bensonhurst West|   Boro Zone|\n",
      "|2020-01-01 01:00:00|          45| 898.4400000000002|          49|              NULL|       NULL|        45|Manhattan|           Chinatown| Yellow Zone|\n",
      "|2020-01-01 01:00:00|          47|47.400000000000006|           3|            130.46|          3|        47|    Bronx|  Claremont/Bathgate|   Boro Zone|\n",
      "|2020-01-01 01:00:00|          61|            548.35|          23| 912.8499999999999|         26|        61| Brooklyn| Crown Heights North|   Boro Zone|\n",
      "|2020-01-01 01:00:00|          65|            647.43|          31|            246.86|         16|        65| Brooklyn|Downtown Brooklyn...|   Boro Zone|\n",
      "+-------------------+------------+------------------+------------+------------------+-----------+----------+---------+--------------------+------------+\n",
      "only showing top 20 rows\n",
      "\n"
     ]
    }
   ],
   "source": [
    "df_results.show()"
   ]
  },
  {
   "cell_type": "code",
   "execution_count": 83,
   "id": "8db24462-dc42-40b5-a426-d3cc3c37bf4b",
   "metadata": {},
   "outputs": [
    {
     "name": "stderr",
     "output_type": "stream",
     "text": [
      "25/03/05 20:31:43 WARN MemoryManager: Total allocation exceeds 95.00% (1,020,054,720 bytes) of heap memory\n",
      "Scaling row group sizes to 95.00% for 8 writers\n",
      "25/03/05 20:31:43 WARN MemoryManager: Total allocation exceeds 95.00% (1,020,054,720 bytes) of heap memory\n",
      "Scaling row group sizes to 84.44% for 9 writers\n",
      "25/03/05 20:31:43 WARN MemoryManager: Total allocation exceeds 95.00% (1,020,054,720 bytes) of heap memory\n",
      "Scaling row group sizes to 76.00% for 10 writers\n",
      "25/03/05 20:31:43 WARN MemoryManager: Total allocation exceeds 95.00% (1,020,054,720 bytes) of heap memory\n",
      "Scaling row group sizes to 69.09% for 11 writers\n",
      "25/03/05 20:31:43 WARN MemoryManager: Total allocation exceeds 95.00% (1,020,054,720 bytes) of heap memory\n",
      "Scaling row group sizes to 63.33% for 12 writers\n",
      "25/03/05 20:31:43 WARN MemoryManager: Total allocation exceeds 95.00% (1,020,054,720 bytes) of heap memory\n",
      "Scaling row group sizes to 69.09% for 11 writers\n",
      "25/03/05 20:31:43 WARN MemoryManager: Total allocation exceeds 95.00% (1,020,054,720 bytes) of heap memory\n",
      "Scaling row group sizes to 76.00% for 10 writers\n",
      "25/03/05 20:31:43 WARN MemoryManager: Total allocation exceeds 95.00% (1,020,054,720 bytes) of heap memory\n",
      "Scaling row group sizes to 84.44% for 9 writers\n",
      "25/03/05 20:31:43 WARN MemoryManager: Total allocation exceeds 95.00% (1,020,054,720 bytes) of heap memory\n",
      "Scaling row group sizes to 95.00% for 8 writers\n",
      "                                                                                "
     ]
    }
   ],
   "source": [
    "df_result.drop('LocationID').write.parquet('tmp/revenue-zones')"
   ]
  },
  {
   "cell_type": "code",
   "execution_count": null,
   "id": "caa2418b-2c5b-4dbc-939d-0e82d722e8c2",
   "metadata": {},
   "outputs": [],
   "source": []
  }
 ],
 "metadata": {
  "kernelspec": {
   "display_name": "Python 3 (ipykernel)",
   "language": "python",
   "name": "python3"
  },
  "language_info": {
   "codemirror_mode": {
    "name": "ipython",
    "version": 3
   },
   "file_extension": ".py",
   "mimetype": "text/x-python",
   "name": "python",
   "nbconvert_exporter": "python",
   "pygments_lexer": "ipython3",
   "version": "3.12.3"
  }
 },
 "nbformat": 4,
 "nbformat_minor": 5
}
