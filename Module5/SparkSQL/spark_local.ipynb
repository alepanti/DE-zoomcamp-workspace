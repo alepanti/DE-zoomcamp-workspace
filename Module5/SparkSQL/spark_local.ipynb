{
 "cells": [
  {
   "cell_type": "code",
   "execution_count": 1,
   "id": "cbdecb8b-fb11-4f61-93f4-795bd277bdf9",
   "metadata": {},
   "outputs": [],
   "source": [
    "import pyspark\n",
    "from pyspark.sql import SparkSession\n",
    "from pyspark.sql import functions as F"
   ]
  },
  {
   "cell_type": "code",
   "execution_count": 2,
   "id": "5134a559-afe6-42a0-ad72-add56e7a6f40",
   "metadata": {},
   "outputs": [
    {
     "data": {
      "text/plain": [
       "'3.5.5'"
      ]
     },
     "execution_count": 2,
     "metadata": {},
     "output_type": "execute_result"
    }
   ],
   "source": [
    "pyspark.__version__"
   ]
  },
  {
   "cell_type": "code",
   "execution_count": 3,
   "id": "dc76caa1-8a99-4ce9-a2de-db11e3303d7c",
   "metadata": {
    "scrolled": true
   },
   "outputs": [
    {
     "name": "stderr",
     "output_type": "stream",
     "text": [
      "25/03/07 19:53:44 WARN Utils: Your hostname, biccboii resolves to a loopback address: 127.0.1.1; using 10.255.255.254 instead (on interface lo)\n",
      "25/03/07 19:53:44 WARN Utils: Set SPARK_LOCAL_IP if you need to bind to another address\n",
      "Setting default log level to \"WARN\".\n",
      "To adjust logging level use sc.setLogLevel(newLevel). For SparkR, use setLogLevel(newLevel).\n",
      "25/03/07 19:53:44 WARN NativeCodeLoader: Unable to load native-hadoop library for your platform... using builtin-java classes where applicable\n"
     ]
    }
   ],
   "source": [
    "spark = SparkSession.builder \\\n",
    "    .master('spark://biccboii.:7077') \\\n",
    "    .appName('test') \\\n",
    "    .getOrCreate()"
   ]
  },
  {
   "cell_type": "code",
   "execution_count": 7,
   "id": "447c0da0-9ba4-4f13-903e-0b5f33ad1431",
   "metadata": {},
   "outputs": [
    {
     "data": {
      "text/html": [
       "\n",
       "            <div>\n",
       "                <p><b>SparkSession - in-memory</b></p>\n",
       "                \n",
       "        <div>\n",
       "            <p><b>SparkContext</b></p>\n",
       "\n",
       "            <p><a href=\"http://10.255.255.254:4040\">Spark UI</a></p>\n",
       "\n",
       "            <dl>\n",
       "              <dt>Version</dt>\n",
       "                <dd><code>v3.5.5</code></dd>\n",
       "              <dt>Master</dt>\n",
       "                <dd><code>spark://biccboii.:7077</code></dd>\n",
       "              <dt>AppName</dt>\n",
       "                <dd><code>test</code></dd>\n",
       "            </dl>\n",
       "        </div>\n",
       "        \n",
       "            </div>\n",
       "        "
      ],
      "text/plain": [
       "<pyspark.sql.session.SparkSession at 0x7f7b10d08920>"
      ]
     },
     "execution_count": 7,
     "metadata": {},
     "output_type": "execute_result"
    }
   ],
   "source": [
    "spark"
   ]
  },
  {
   "cell_type": "code",
   "execution_count": 8,
   "id": "cc3c4d89-1c11-41cf-aa1d-d5037b70e285",
   "metadata": {},
   "outputs": [],
   "source": [
    "df_green = spark.read.parquet('data/pq/green/*/*')"
   ]
  },
  {
   "cell_type": "code",
   "execution_count": 9,
   "id": "f65e8800-3a49-4666-8117-4b4e87d006bd",
   "metadata": {},
   "outputs": [],
   "source": [
    "df_yellow = spark.read.parquet('data/pq/yellow/*/*')"
   ]
  },
  {
   "cell_type": "code",
   "execution_count": 10,
   "id": "c7626181-0acf-4441-ba50-ed85a5e9d34f",
   "metadata": {},
   "outputs": [
    {
     "name": "stdout",
     "output_type": "stream",
     "text": [
      "root\n",
      " |-- VendorID: integer (nullable = true)\n",
      " |-- lpep_pickup_datetime: timestamp (nullable = true)\n",
      " |-- lpep_dropoff_datetime: timestamp (nullable = true)\n",
      " |-- store_and_fwd_flag: string (nullable = true)\n",
      " |-- RatecodeID: integer (nullable = true)\n",
      " |-- PULocationID: integer (nullable = true)\n",
      " |-- DOLocationID: integer (nullable = true)\n",
      " |-- passenger_count: integer (nullable = true)\n",
      " |-- trip_distance: double (nullable = true)\n",
      " |-- fare_amount: double (nullable = true)\n",
      " |-- extra: double (nullable = true)\n",
      " |-- mta_tax: double (nullable = true)\n",
      " |-- tip_amount: double (nullable = true)\n",
      " |-- tolls_amount: double (nullable = true)\n",
      " |-- ehail_fee: double (nullable = true)\n",
      " |-- improvement_surcharge: double (nullable = true)\n",
      " |-- total_amount: double (nullable = true)\n",
      " |-- payment_type: integer (nullable = true)\n",
      " |-- trip_type: integer (nullable = true)\n",
      " |-- congestion_surcharge: double (nullable = true)\n",
      "\n"
     ]
    }
   ],
   "source": [
    "df_green.printSchema()"
   ]
  },
  {
   "cell_type": "code",
   "execution_count": 11,
   "id": "6894eb71-2fbc-4fc0-a3e3-0a729eb2cd3c",
   "metadata": {},
   "outputs": [
    {
     "name": "stdout",
     "output_type": "stream",
     "text": [
      "root\n",
      " |-- VendorID: integer (nullable = true)\n",
      " |-- tpep_pickup_datetime: timestamp (nullable = true)\n",
      " |-- tpep_dropoff_datetime: timestamp (nullable = true)\n",
      " |-- passenger_count: integer (nullable = true)\n",
      " |-- trip_distance: double (nullable = true)\n",
      " |-- RatecodeID: integer (nullable = true)\n",
      " |-- store_and_fwd_flag: string (nullable = true)\n",
      " |-- PULocationID: integer (nullable = true)\n",
      " |-- DOLocationID: integer (nullable = true)\n",
      " |-- payment_type: integer (nullable = true)\n",
      " |-- fare_amount: double (nullable = true)\n",
      " |-- extra: double (nullable = true)\n",
      " |-- mta_tax: double (nullable = true)\n",
      " |-- tip_amount: double (nullable = true)\n",
      " |-- tolls_amount: double (nullable = true)\n",
      " |-- improvement_surcharge: double (nullable = true)\n",
      " |-- total_amount: double (nullable = true)\n",
      " |-- congestion_surcharge: double (nullable = true)\n",
      "\n"
     ]
    }
   ],
   "source": [
    "df_yellow.printSchema()"
   ]
  },
  {
   "cell_type": "code",
   "execution_count": 12,
   "id": "da29706b-6ada-489b-9486-220768f5827a",
   "metadata": {},
   "outputs": [
    {
     "data": {
      "text/plain": [
       "['VendorID',\n",
       " 'tpep_pickup_datetime',\n",
       " 'tpep_dropoff_datetime',\n",
       " 'passenger_count',\n",
       " 'trip_distance',\n",
       " 'RatecodeID',\n",
       " 'store_and_fwd_flag',\n",
       " 'PULocationID',\n",
       " 'DOLocationID',\n",
       " 'payment_type',\n",
       " 'fare_amount',\n",
       " 'extra',\n",
       " 'mta_tax',\n",
       " 'tip_amount',\n",
       " 'tolls_amount',\n",
       " 'improvement_surcharge',\n",
       " 'total_amount',\n",
       " 'congestion_surcharge']"
      ]
     },
     "execution_count": 12,
     "metadata": {},
     "output_type": "execute_result"
    }
   ],
   "source": [
    "df_yellow.columns"
   ]
  },
  {
   "cell_type": "code",
   "execution_count": 13,
   "id": "8996864e-e4f0-4f9a-bed2-8c487ca98b29",
   "metadata": {},
   "outputs": [
    {
     "data": {
      "text/plain": [
       "['VendorID',\n",
       " 'lpep_pickup_datetime',\n",
       " 'lpep_dropoff_datetime',\n",
       " 'store_and_fwd_flag',\n",
       " 'RatecodeID',\n",
       " 'PULocationID',\n",
       " 'DOLocationID',\n",
       " 'passenger_count',\n",
       " 'trip_distance',\n",
       " 'fare_amount',\n",
       " 'extra',\n",
       " 'mta_tax',\n",
       " 'tip_amount',\n",
       " 'tolls_amount',\n",
       " 'ehail_fee',\n",
       " 'improvement_surcharge',\n",
       " 'total_amount',\n",
       " 'payment_type',\n",
       " 'trip_type',\n",
       " 'congestion_surcharge']"
      ]
     },
     "execution_count": 13,
     "metadata": {},
     "output_type": "execute_result"
    }
   ],
   "source": [
    "df_green.columns"
   ]
  },
  {
   "cell_type": "code",
   "execution_count": 14,
   "id": "323aa3ca-5380-402f-a021-d8a4fb3b1c14",
   "metadata": {},
   "outputs": [
    {
     "data": {
      "text/plain": [
       "{'DOLocationID',\n",
       " 'PULocationID',\n",
       " 'RatecodeID',\n",
       " 'VendorID',\n",
       " 'congestion_surcharge',\n",
       " 'extra',\n",
       " 'fare_amount',\n",
       " 'improvement_surcharge',\n",
       " 'mta_tax',\n",
       " 'passenger_count',\n",
       " 'payment_type',\n",
       " 'store_and_fwd_flag',\n",
       " 'tip_amount',\n",
       " 'tolls_amount',\n",
       " 'total_amount',\n",
       " 'trip_distance'}"
      ]
     },
     "execution_count": 14,
     "metadata": {},
     "output_type": "execute_result"
    }
   ],
   "source": [
    "set(df_yellow.columns) & set(df_green.columns)"
   ]
  },
  {
   "cell_type": "code",
   "execution_count": 15,
   "id": "1152f935-1477-4a0b-af42-a21158b55a9f",
   "metadata": {},
   "outputs": [],
   "source": [
    "df_green = df_green.withColumnRenamed('lpep_pickup_datetime', 'pickup_datetime')"
   ]
  },
  {
   "cell_type": "code",
   "execution_count": 16,
   "id": "d348aa9f-18a6-466f-b1e5-6c04d6226185",
   "metadata": {},
   "outputs": [],
   "source": [
    "df_green = df_green.withColumnRenamed('lpep_dropoff_datetime', 'dropoff_datetime')"
   ]
  },
  {
   "cell_type": "code",
   "execution_count": 17,
   "id": "d1254d00-06f9-48c7-9480-3390029208d3",
   "metadata": {},
   "outputs": [
    {
     "data": {
      "text/plain": [
       "['VendorID',\n",
       " 'pickup_datetime',\n",
       " 'dropoff_datetime',\n",
       " 'store_and_fwd_flag',\n",
       " 'RatecodeID',\n",
       " 'PULocationID',\n",
       " 'DOLocationID',\n",
       " 'passenger_count',\n",
       " 'trip_distance',\n",
       " 'fare_amount',\n",
       " 'extra',\n",
       " 'mta_tax',\n",
       " 'tip_amount',\n",
       " 'tolls_amount',\n",
       " 'ehail_fee',\n",
       " 'improvement_surcharge',\n",
       " 'total_amount',\n",
       " 'payment_type',\n",
       " 'trip_type',\n",
       " 'congestion_surcharge']"
      ]
     },
     "execution_count": 17,
     "metadata": {},
     "output_type": "execute_result"
    }
   ],
   "source": [
    "df_green.columns"
   ]
  },
  {
   "cell_type": "code",
   "execution_count": 18,
   "id": "2c51729c-a22e-4564-bc10-5db220d86c4b",
   "metadata": {},
   "outputs": [],
   "source": [
    "df_yellow = df_yellow \\\n",
    "    .withColumnRenamed('tpep_pickup_datetime', 'pickup_datetime') \\\n",
    "    .withColumnRenamed('tpep_dropoff_datetime', 'dropoff_datetime')"
   ]
  },
  {
   "cell_type": "code",
   "execution_count": 19,
   "id": "708d6e79-2f66-4fe1-a2e3-7d5e0c80c09f",
   "metadata": {},
   "outputs": [
    {
     "data": {
      "text/plain": [
       "['VendorID',\n",
       " 'pickup_datetime',\n",
       " 'dropoff_datetime',\n",
       " 'passenger_count',\n",
       " 'trip_distance',\n",
       " 'RatecodeID',\n",
       " 'store_and_fwd_flag',\n",
       " 'PULocationID',\n",
       " 'DOLocationID',\n",
       " 'payment_type',\n",
       " 'fare_amount',\n",
       " 'extra',\n",
       " 'mta_tax',\n",
       " 'tip_amount',\n",
       " 'tolls_amount',\n",
       " 'improvement_surcharge',\n",
       " 'total_amount',\n",
       " 'congestion_surcharge']"
      ]
     },
     "execution_count": 19,
     "metadata": {},
     "output_type": "execute_result"
    }
   ],
   "source": [
    "df_yellow.columns"
   ]
  },
  {
   "cell_type": "code",
   "execution_count": 20,
   "id": "02050f66-c712-4ead-ba08-b9b661938fb1",
   "metadata": {},
   "outputs": [
    {
     "data": {
      "text/plain": [
       "{'DOLocationID',\n",
       " 'PULocationID',\n",
       " 'RatecodeID',\n",
       " 'VendorID',\n",
       " 'congestion_surcharge',\n",
       " 'dropoff_datetime',\n",
       " 'extra',\n",
       " 'fare_amount',\n",
       " 'improvement_surcharge',\n",
       " 'mta_tax',\n",
       " 'passenger_count',\n",
       " 'payment_type',\n",
       " 'pickup_datetime',\n",
       " 'store_and_fwd_flag',\n",
       " 'tip_amount',\n",
       " 'tolls_amount',\n",
       " 'total_amount',\n",
       " 'trip_distance'}"
      ]
     },
     "execution_count": 20,
     "metadata": {},
     "output_type": "execute_result"
    }
   ],
   "source": [
    "set(df_yellow.columns) & set(df_green.columns)"
   ]
  },
  {
   "cell_type": "code",
   "execution_count": 21,
   "id": "a09b1f88-7a87-4a5e-b932-fc35a162c6c7",
   "metadata": {},
   "outputs": [],
   "source": [
    "common = []\n",
    "yellow = df_yellow.columns\n",
    "for col in df_green.columns:\n",
    "    if col in yellow:\n",
    "        common.append(col)"
   ]
  },
  {
   "cell_type": "code",
   "execution_count": 24,
   "id": "58e4512e-8e5e-421e-89cd-c7b04239b3ba",
   "metadata": {},
   "outputs": [],
   "source": [
    "common = [\n",
    "    'VendorID',\n",
    "     'pickup_datetime',\n",
    "     'dropoff_datetime',\n",
    "     'store_and_fwd_flag',\n",
    "     'RatecodeID',\n",
    "     'PULocationID',\n",
    "     'DOLocationID',\n",
    "     'passenger_count',\n",
    "     'trip_distance',\n",
    "     'fare_amount',\n",
    "     'extra',\n",
    "     'mta_tax',\n",
    "     'tip_amount',\n",
    "     'tolls_amount',\n",
    "     'improvement_surcharge',\n",
    "     'total_amount',\n",
    "     'payment_type',\n",
    "     'congestion_surcharge'\n",
    "]"
   ]
  },
  {
   "cell_type": "code",
   "execution_count": 25,
   "id": "acfcaf63-8d23-4f8b-8388-28e66c467f45",
   "metadata": {},
   "outputs": [],
   "source": [
    "df_g = df_green \\\n",
    "    .select(common) \\\n",
    "    .withColumn('service_type', F.lit('green'))"
   ]
  },
  {
   "cell_type": "code",
   "execution_count": 26,
   "id": "6644a4f7-6f5a-4761-a4fe-64ca8a28a2e2",
   "metadata": {},
   "outputs": [],
   "source": [
    "df_y = df_yellow \\\n",
    "    .select(common) \\\n",
    "    .withColumn('service_type', F.lit('yellow'))"
   ]
  },
  {
   "cell_type": "code",
   "execution_count": 27,
   "id": "36a7de29-2906-4d57-9040-cff67583de5b",
   "metadata": {},
   "outputs": [],
   "source": [
    "df_trips_data = df_g.unionAll(df_y)"
   ]
  },
  {
   "cell_type": "code",
   "execution_count": 29,
   "id": "21c4c460-fc5a-4460-85bb-d3ecdd98bf37",
   "metadata": {},
   "outputs": [],
   "source": [
    "df_trips_data.createOrReplaceTempView('trips_data')"
   ]
  },
  {
   "cell_type": "code",
   "execution_count": 30,
   "id": "a0847771-c562-452c-991d-d330dc62af7c",
   "metadata": {},
   "outputs": [],
   "source": [
    "df_result = spark.sql(\"\"\"\n",
    "SELECT \n",
    "    -- Revenue grouping \n",
    "    PULocationID AS revenue_zone,\n",
    "    date_trunc(\"month\", \"pickup_datetime\") AS revenue_month, \n",
    "\n",
    "    service_type, \n",
    "\n",
    "    -- Revenue calculation \n",
    "    SUM(fare_amount) AS revenue_monthly_fare,\n",
    "    SUM(extra) AS revenue_monthly_extra,\n",
    "    SUM(mta_tax) AS revenue_monthly_mta_tax,\n",
    "    SUM(tip_amount) AS revenue_monthly_tip_amount,\n",
    "    SUM(tolls_amount) AS revenue_monthly_tolls_amount,\n",
    "    --SUM(ehail_fee) AS revenue_monthly_ehail_fee, -- removed only in green\n",
    "    SUM(improvement_surcharge) AS revenue_monthly_improvement_surcharge,\n",
    "    SUM(total_amount) AS revenue_monthly_total_amount,\n",
    "\n",
    "    -- Additional calculations\n",
    "    --COUNT(trip_id) AS total_monthly_trips, --did not calculate tripid\n",
    "    AVG(passenger_count) AS _monthly_passenger_count,\n",
    "    AVG(trip_distance) AS _monthly_trip_distance\n",
    "\n",
    "    FROM trips_data\n",
    "    GROUP BY revenue_zone,revenue_month,service_type\n",
    "\"\"\")"
   ]
  },
  {
   "cell_type": "code",
   "execution_count": 31,
   "id": "f7a2cffd-626c-4e74-84bc-0cfa77af34f1",
   "metadata": {},
   "outputs": [
    {
     "name": "stderr",
     "output_type": "stream",
     "text": [
      "[Stage 6:====================================================>    (23 + 2) / 25]"
     ]
    },
    {
     "name": "stdout",
     "output_type": "stream",
     "text": [
      "+------------+-------------+------------+--------------------+---------------------+-----------------------+--------------------------+----------------------------+-------------------------------------+----------------------------+------------------------+----------------------+\n",
      "|revenue_zone|revenue_month|service_type|revenue_monthly_fare|revenue_monthly_extra|revenue_monthly_mta_tax|revenue_monthly_tip_amount|revenue_monthly_tolls_amount|revenue_monthly_improvement_surcharge|revenue_monthly_total_amount|_monthly_passenger_count|_monthly_trip_distance|\n",
      "+------------+-------------+------------+--------------------+---------------------+-----------------------+--------------------------+----------------------------+-------------------------------------+----------------------------+------------------------+----------------------+\n",
      "|         254|         NULL|       green|   278150.7100000002|             11320.52|                  854.5|         9569.899999999998|          13415.779999999972|                   2786.1000000000413|           316342.1099999994|       1.138095238095238|    249.57145962406813|\n",
      "|          38|         NULL|       green|   82767.60999999994|               2537.6|                  237.5|                   2433.53|           3530.910000000001|                    664.1999999999981|           92221.79999999999|      1.1342925659472423|    151.58323426573426|\n",
      "|         229|         NULL|       green|  13658.470000000001|    689.3000000000001|                   23.0|                    388.43|           789.0999999999999|                    132.0000000000001|          15699.049999999997|      1.2222222222222223|      8.25965986394558|\n",
      "|         188|         NULL|       green|  430873.55000000104|             21162.42|                 1931.0|        19095.489999999998|           6813.590000000003|                    5714.400000000045|          486763.99999999854|      1.1596080910240203|     82.27654449456647|\n",
      "|         232|         NULL|       green|   40609.97999999999|              1913.95|                  64.55|        1314.6000000000001|          1395.4100000000003|                   403.49999999999955|                    45729.54|       1.069767441860465|     261.1684855233854|\n",
      "|          91|         NULL|       green|   250313.2200000006|             12562.13|                  787.0|                   8716.69|           6357.609999999999|                     2745.30000000004|          281822.25000000035|      1.1644120707596255|    150.86490212498688|\n",
      "|         134|         NULL|       green|  237161.71000000002|              10112.5|                 5852.0|                  17749.85|           4267.540000000002|                    4513.199999999861|           280469.1500000038|      1.3807110815750125|    14.592568801313629|\n",
      "|         241|         NULL|       green|  146435.97000000003|    4976.450000000001|                  874.5|         5909.280000000001|           5791.600000000004|                   1537.1999999999987|          165902.94999999966|      1.1257344300822563|     142.7736909709105|\n",
      "|          93|         NULL|       green|  30308.009999999995|               655.65|                  297.5|        2848.0600000000004|          1195.7500000000002|                    314.0999999999997|           35931.47000000002|      1.3621399176954732|     7.395726179463459|\n",
      "|         101|         NULL|       green|  39496.089999999975|   1367.1999999999998|                  112.0|        1092.3700000000001|           952.1200000000003|                    323.9999999999997|           43368.63000000001|                     1.2|     195.6959838998211|\n",
      "|         118|         NULL|       green|   4471.259999999999|                41.25|                   25.5|                     90.87|           650.9100000000001|                                 23.7|                     5303.49|       1.169811320754717|    18.348101265822788|\n",
      "|         189|         NULL|       green|    94516.5799999999|              4349.99|                 1131.0|         7784.499999999999|                      769.13|                   1469.4000000000065|          111309.84999999974|      1.2221715328467153|    100.36491477842385|\n",
      "|         153|         NULL|       green|   44446.13999999999|   1739.5999999999997|                  314.0|                   1898.36|                      836.81|                    538.4999999999989|          49846.360000000044|      1.1730769230769231|     85.14134782608694|\n",
      "|         221|         NULL|       green|             4423.11|                 43.0|                   25.5|         97.50999999999999|                      650.65|                   25.199999999999996|           5278.719999999999|      1.5272727272727273|    15.346785714285712|\n",
      "|         225|         NULL|       green|   327440.8000000003|   15683.279999999997|                 1740.5|        14035.019999999999|           6848.680000000001|                   4104.9000000000315|                   370806.53|       1.153555479216764|     26.19238507567759|\n",
      "|          76|         NULL|       green|   519384.7099999992|   22772.819999999996|                 1959.0|                  17321.47|          16248.769999999928|                     5437.20000000002|           583539.5200000027|      1.2111475409836066|     79.12579277697999|\n",
      "|         227|         NULL|       green|  145901.41000000012|              4067.25|                  700.5|         5313.889999999999|                     1879.97|                   1220.6999999999946|          159232.01999999976|       1.043778801843318|    30.871060496505176|\n",
      "|          94|         NULL|       green|   82998.72000000004|               3515.7|                  562.0|        3282.3399999999992|          2794.8600000000015|                   1018.7999999999953|           94344.32000000005|      1.1953612845673507|      75.9935528199256|\n",
      "|          52|         NULL|       green|  204883.63000000012|               6166.2|                 7813.5|        30908.169999999995|          1451.2800000000002|                    4981.799999999811|          262175.63000000414|      1.2154023577652486|     5.637083707293723|\n",
      "|         160|         NULL|       green|   46051.61999999997|   1986.9499999999998|                  224.0|                   2058.21|          1289.8200000000002|                    539.0999999999987|           52245.80000000001|      1.2039473684210527|      9.66249048395868|\n",
      "+------------+-------------+------------+--------------------+---------------------+-----------------------+--------------------------+----------------------------+-------------------------------------+----------------------------+------------------------+----------------------+\n",
      "only showing top 20 rows\n",
      "\n"
     ]
    },
    {
     "name": "stderr",
     "output_type": "stream",
     "text": [
      "                                                                                "
     ]
    }
   ],
   "source": [
    "df_result.show()"
   ]
  },
  {
   "cell_type": "code",
   "execution_count": 32,
   "id": "a821b684-3432-4edb-8ec1-bac3bc5f5a28",
   "metadata": {},
   "outputs": [
    {
     "name": "stderr",
     "output_type": "stream",
     "text": [
      "                                                                                "
     ]
    }
   ],
   "source": [
    "df_result.write.parquet('data/report/revenue/', mode='overwrite')"
   ]
  }
 ],
 "metadata": {
  "kernelspec": {
   "display_name": "Python 3 (ipykernel)",
   "language": "python",
   "name": "python3"
  },
  "language_info": {
   "codemirror_mode": {
    "name": "ipython",
    "version": 3
   },
   "file_extension": ".py",
   "mimetype": "text/x-python",
   "name": "python",
   "nbconvert_exporter": "python",
   "pygments_lexer": "ipython3",
   "version": "3.12.3"
  }
 },
 "nbformat": 4,
 "nbformat_minor": 5
}
